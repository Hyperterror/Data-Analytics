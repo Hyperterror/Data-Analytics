{
  "nbformat": 4,
  "nbformat_minor": 0,
  "metadata": {
    "colab": {
      "provenance": []
    },
    "kernelspec": {
      "name": "python3",
      "display_name": "Python 3"
    },
    "language_info": {
      "name": "python"
    }
  },
  "cells": [
    {
      "cell_type": "markdown",
      "source": [
        "#Data Types and Structures\n",
        "\n",
        "1. What are data structures, and why are they important?\n",
        " - Data Structures are ways of oraganizing and storing data in a computer so that it can be accessed and modified efficiently.\n",
        " - They are important because they allow us to manage and manipulate data in a structured way.\n",
        "\n",
        "2. Explain the difference between mutable and immutable data types with examples.\n",
        " - Mutable data types can be changed after they are created, it means u can modify without creating a new object. Example of Mutable data type : List\n",
        " - Immutable data types cannot be changed after they are created. If needed to modify u need to create a new object. Example of immutable data types: tuple,string.\n",
        "\n",
        "3. What are the main differences between lists and tuples in Python?\n",
        " - Mutability:\n",
        "    Lists are Mutable while tuples are immutable.\n",
        "\n",
        "4. Describe how dictionaries store data?\n",
        " - Dictionary stores data in a key-value pair.\n",
        "\n",
        "5. Why might you use a set instead of a list in Python?\n",
        " - to store a collection of unique elements.\n",
        " - to perform mathematical set operations.\n",
        " - to check for the presence of an element quickly.\n",
        "\n",
        "6. What is a string in Python, and how is it different from a list?\n",
        " - A string in Python is a sequence of characters. It is an immutable data type.\n",
        " - string differs from a list:\n",
        "    Data type, Mutability , Operations.\n",
        "\n",
        "7. How do tuples ensure data integrity in Python?\n",
        "  - Tuples ensure data integrity in Python primarily through their immutability. Because the elements within a tuple cannot be changed, added, or removed after the tuple is created, you can be confident that the data you put into a tuple will remain exactly as it is for the lifetime of that tuple object.\n",
        "\n",
        "8. What is a hash table, and how does it relate to dictionaries in Python?\n",
        " - A hash table is a data structure that implements an associative array abstract data type. It's a way of storing data in key-value pairs, allowing for very fast lookups, insertions, and deletions.\n",
        "\n",
        " - Python dictionaries are implemented using hash tables. When you create a dictionary and add key-value pairs, Python uses a sophisticated hash table implementation under the hood.\n",
        "\n",
        "9. Can lists contain different data types in Python?\n",
        " - Yes List can contain different data types in Python. It is heterogenous data type.\n",
        "\n",
        "10. Explain why strings are immutable in Python?\n",
        " - Performance and Efficiency,Thread Safety,Predictability are the reasons why strings are immuatable\n",
        "\n",
        "11. What advantages do dictionaries offer over lists for certain tasks?\n",
        " - Dictionaries offer significant advantages over lists for certain tasks, primarily due to their key-value structure and underlying implementation (hash tables). Here are some key advantages:\n",
        "  - Fast Lookups, Associative Storage, Efficient Insertion and Deletion,etc.\n",
        "\n",
        "12. Describe a scenario where using a tuple would be preferable over a list.\n",
        " - A scenario where using a tuple would be preferable over a list is when you need to represent a collection of items that should not change throughout the program's execution, and these items are inherently related as a single entity.\n",
        "\n",
        "13. How do sets handle duplicate values in Python?\n",
        " - Sets in Python are designed to store unique elements. This is their fundamental characteristic. When you add elements to a set, or when you create a set from an iterable that contains duplicates, the set automatically discards any duplicate value\n",
        "\n",
        "14. How does the “in” keyword work differently for lists and dictionaries?\n",
        " - For lists, in checks if a value exists by iterating through the elements (linear search).\n",
        " - For dictionaries, in checks if a key exists by using the hash table (fast lookup).\n",
        "\n",
        "15. Can you modify the elements of a tuple? Explain why or why not?\n",
        " - No we cannot modify elements of a tuple as tuples are immutable data types that means there values cannot be changed after creating the object.\n",
        "\n",
        "16.  What is a nested dictionary, and give an example of its use case?\n",
        " -  A nested dictionary in Python is a dictionary where the value associated with a key is another dictionary. This allows you to create hierarchical data structures, representing relationships and organizing data in a more complex way than a simple key-value pair.\n",
        "\n",
        " - Think of it as a dictionary within a dictionary. The outer dictionary has keys, and the values corresponding to those keys are themselves dictionaries, which in turn have their own keys and values.\n",
        "\n",
        "17.  Describe the time complexity of accessing elements in a dictionary.\n",
        " -  The time complexity of accessing elements in a dictionary in Python is, on average, O(1) (constant time).\n",
        "\n",
        "18. In what situations are lists preferred over dictionaries?\n",
        " - When you need an ordered collection,When you need to access elements by their position (index),When you need to store a collection of items without unique identifiers are the cases where lists are preferred over dictionaries.\n",
        "\n",
        "19. Why are dictionaries considered unordered, and how does that affect data retrieval?\n",
        " - dictionaries were considered unordered. This meant that the order in which you inserted key-value pairs into the dictionary was not guaranteed to be the order in which they would be retrieved when iterating over the dictionary.\n",
        "\n",
        "20. Explain the difference between a list and a dictionary in terms of data retrieval.\n",
        " - The main difference between lists and dictionaries in terms of data retrieval lies in how you identify and access the data you want\n"
      ],
      "metadata": {
        "id": "jK0NC03Pk9Hy"
      }
    },
    {
      "cell_type": "code",
      "source": [
        "#1. Write a code to create a string with your name and print it.\n",
        "s1=input(\"Enter a Name: \")\n",
        "print(s1)"
      ],
      "metadata": {
        "colab": {
          "base_uri": "https://localhost:8080/"
        },
        "id": "x-9ekdJmk5Q-",
        "outputId": "8da1623e-e08c-4ac2-bdb3-6f3d7f31ae5e"
      },
      "execution_count": 1,
      "outputs": [
        {
          "output_type": "stream",
          "name": "stdout",
          "text": [
            "Enter a Name: Hyper\n",
            "Hyper\n"
          ]
        }
      ]
    },
    {
      "cell_type": "code",
      "execution_count": 2,
      "metadata": {
        "colab": {
          "base_uri": "https://localhost:8080/"
        },
        "id": "uAiVijmlk2Z6",
        "outputId": "5e45f198-b49d-41fa-93c3-382d306ac5ff"
      },
      "outputs": [
        {
          "output_type": "stream",
          "name": "stdout",
          "text": [
            "11\n"
          ]
        }
      ],
      "source": [
        "#2. Write a code to find the length of the string \"Hello World\".\n",
        "s1=\"Hello World\"\n",
        "print(len(s1))"
      ]
    },
    {
      "cell_type": "code",
      "source": [
        "#3. Write a code to slice the first 3 characters from the string \"Python Programming\".\n",
        "s1=\"Python Programming\"\n",
        "print(s1[0:3])"
      ],
      "metadata": {
        "colab": {
          "base_uri": "https://localhost:8080/"
        },
        "id": "PqP7J047mb1W",
        "outputId": "4ba103ce-9fe6-4190-8966-2e9ffc6da5cb"
      },
      "execution_count": 3,
      "outputs": [
        {
          "output_type": "stream",
          "name": "stdout",
          "text": [
            "Pyt\n"
          ]
        }
      ]
    },
    {
      "cell_type": "code",
      "source": [
        "#4. Write a code to convert the string \"hello\" to uppercase.\n",
        "s1=\"hello\"\n",
        "s1=s1.upper()\n",
        "print(s1)"
      ],
      "metadata": {
        "colab": {
          "base_uri": "https://localhost:8080/"
        },
        "id": "pPI7LVFkmbul",
        "outputId": "7f1d6125-a6bd-456d-ef47-0d46fd242e40"
      },
      "execution_count": 16,
      "outputs": [
        {
          "output_type": "stream",
          "name": "stdout",
          "text": [
            "HELLO\n"
          ]
        }
      ]
    },
    {
      "cell_type": "code",
      "source": [
        "#5. Write a code to replace the word \"apple\" with \"orange\" in the string \"I like apple\".\n",
        "s1=\"I like apple\"\n",
        "s1=s1.replace(\"apple\",\"orange\")\n",
        "print(s1)"
      ],
      "metadata": {
        "colab": {
          "base_uri": "https://localhost:8080/"
        },
        "id": "bG3M75tfmbnf",
        "outputId": "9e64ac38-730b-47f3-829d-2a9f79e283fe"
      },
      "execution_count": 15,
      "outputs": [
        {
          "output_type": "stream",
          "name": "stdout",
          "text": [
            "I like orange\n"
          ]
        }
      ]
    },
    {
      "cell_type": "code",
      "source": [
        "#6. Write a code to create a list with numbers 1 to 5 and print it.\n",
        "L1=[]\n",
        "for i in range(1,6):\n",
        "  L1.append(i)\n",
        "print(L1)"
      ],
      "metadata": {
        "colab": {
          "base_uri": "https://localhost:8080/"
        },
        "id": "2Sy8lLaMmbgH",
        "outputId": "15a91d4c-36c5-4078-9b32-f9262636c72e"
      },
      "execution_count": 14,
      "outputs": [
        {
          "output_type": "stream",
          "name": "stdout",
          "text": [
            "[1, 2, 3, 4, 5]\n"
          ]
        }
      ]
    },
    {
      "cell_type": "code",
      "source": [
        "#7. Write a code to append the number 10 to the list [1, 2, 3, 4].\n",
        "L1=[1,2,3,4]\n",
        "L1.append(10)\n",
        "print(L1)"
      ],
      "metadata": {
        "colab": {
          "base_uri": "https://localhost:8080/"
        },
        "id": "5oNiq_ekmbZB",
        "outputId": "b71642f3-e384-4b12-87f2-c7780005539a"
      },
      "execution_count": 13,
      "outputs": [
        {
          "output_type": "stream",
          "name": "stdout",
          "text": [
            "[1, 2, 3, 4, 10]\n"
          ]
        }
      ]
    },
    {
      "cell_type": "code",
      "source": [
        "#8. Write a code to remove the number 3 from the list [1, 2, 3, 4, 5]\n",
        "L1=[1,2,3,4,5]\n",
        "L1.remove(3)\n",
        "print(L1)"
      ],
      "metadata": {
        "colab": {
          "base_uri": "https://localhost:8080/"
        },
        "id": "j3lo1EaimbRz",
        "outputId": "c80f0e44-4fdd-4d9c-fa9c-355bd8f1840d"
      },
      "execution_count": 12,
      "outputs": [
        {
          "output_type": "stream",
          "name": "stdout",
          "text": [
            "[1, 2, 4, 5]\n"
          ]
        }
      ]
    },
    {
      "cell_type": "code",
      "source": [
        "#9. Write a code to access the second element in the list ['a', 'b', 'c', 'd']\n",
        "L1=['a','b','c','d']\n",
        "print(L1[1])"
      ],
      "metadata": {
        "colab": {
          "base_uri": "https://localhost:8080/"
        },
        "id": "Io5UvMe2mbKq",
        "outputId": "c302035e-76ae-490d-885f-386385f9e363"
      },
      "execution_count": 11,
      "outputs": [
        {
          "output_type": "stream",
          "name": "stdout",
          "text": [
            "b\n"
          ]
        }
      ]
    },
    {
      "cell_type": "code",
      "source": [
        "#10. Write a code to reverse the list [10, 20, 30, 40, 50].\n",
        "L1=[10,20,30,40,50]\n",
        "for x in range(len(L1)//2):\n",
        "  L1[x],L1[len(L1)-x-1]=L1[len(L1)-x-1],L1[x]\n",
        "print(L1)"
      ],
      "metadata": {
        "colab": {
          "base_uri": "https://localhost:8080/"
        },
        "id": "yAZt88ZfmbDW",
        "outputId": "3a0ae68d-70c6-4bec-929c-d63187d88e8c"
      },
      "execution_count": 10,
      "outputs": [
        {
          "output_type": "stream",
          "name": "stdout",
          "text": [
            "[50, 40, 30, 20, 10]\n"
          ]
        }
      ]
    },
    {
      "cell_type": "code",
      "source": [
        "#11  Write a code to create a tuple with the elements 100, 200, 300 and print it.\n",
        "t1=(100,200,300)\n",
        "print(t1)"
      ],
      "metadata": {
        "id": "tvFSariKFZIR"
      },
      "execution_count": null,
      "outputs": []
    },
    {
      "cell_type": "code",
      "source": [
        "#12 Write a code to access the second-to-last element of the tuple ('red', 'green', 'blue', 'yellow').\n",
        "t1=('red','green','blue','yellow')\n",
        "print(t1[-2])"
      ],
      "metadata": {
        "id": "PcmrgSOiFZbt"
      },
      "execution_count": null,
      "outputs": []
    },
    {
      "cell_type": "code",
      "source": [
        "#13 Write a code to find the minimum number in the tuple (10, 20, 5, 15)\n",
        "t1=(10,20,5,15)\n",
        "print(min(t1))"
      ],
      "metadata": {
        "id": "9zqcTwIeFZrf"
      },
      "execution_count": null,
      "outputs": []
    },
    {
      "cell_type": "code",
      "source": [
        "#14  Write a code to find the index of the element \"cat\" in the tuple ('dog', 'cat', 'rabbit')\n",
        "t1=('dog','cat','rabbit')\n",
        "print(t1.index('cat'))\n"
      ],
      "metadata": {
        "id": "l0hjvzimFaEI"
      },
      "execution_count": null,
      "outputs": []
    },
    {
      "cell_type": "code",
      "source": [
        "#15 Write a code to create a tuple containing three different fruits and check if \"kiwi\" is in it.\n",
        "t1=('apple','banana','kiwi')\n",
        "print('kiwi' in t1)"
      ],
      "metadata": {
        "id": "3wi2AZihFaXU"
      },
      "execution_count": null,
      "outputs": []
    },
    {
      "cell_type": "code",
      "source": [
        "#16 Write a code to create a set with the elements 'a', 'b', 'c' and print it.\n",
        "s1={'a','b','c'}\n",
        "print(s1)"
      ],
      "metadata": {
        "id": "syYPiemxFajH"
      },
      "execution_count": null,
      "outputs": []
    },
    {
      "cell_type": "code",
      "source": [
        "#17 Write a code to clear all elements from the set {1, 2, 3, 4, 5}\n",
        "s1={1,2,3,4,5}\n",
        "s1.clear()\n",
        "print(s1)"
      ],
      "metadata": {
        "id": "y3vYeWVHFatX"
      },
      "execution_count": null,
      "outputs": []
    },
    {
      "cell_type": "code",
      "source": [
        "#18 Write a code to remove the element 4 from the set {1, 2, 3, 4}.\n",
        "s1={1,2,3,4}\n",
        "s1.remove(4)\n",
        "print(s1)\n",
        "\n"
      ],
      "metadata": {
        "id": "lRuCbf4-Fa3P"
      },
      "execution_count": null,
      "outputs": []
    },
    {
      "cell_type": "code",
      "source": [
        "#19 Write a code to find the union of two sets {1, 2, 3} and {3, 4, 5}\n",
        "s1={1,2,3}\n",
        "s2={3,4,5}\n",
        "print(s1.union(s2))"
      ],
      "metadata": {
        "colab": {
          "base_uri": "https://localhost:8080/"
        },
        "id": "rp0qbr9QFbBj",
        "outputId": "249d1724-3b49-47d6-93cb-482081bd1355"
      },
      "execution_count": 1,
      "outputs": [
        {
          "output_type": "stream",
          "name": "stdout",
          "text": [
            "{1, 2, 3, 4, 5}\n"
          ]
        }
      ]
    },
    {
      "cell_type": "code",
      "source": [
        "#20 Write a code to find the intersection of two sets {1, 2, 3} and {2, 3, 4}\n",
        "s1={1,2,3}\n",
        "s2={2,3,4}\n",
        "print(s1.intersection(s2))"
      ],
      "metadata": {
        "colab": {
          "base_uri": "https://localhost:8080/"
        },
        "id": "_rNl5IpRFbMZ",
        "outputId": "d5742762-6da8-471c-b234-e120e47d4fa3"
      },
      "execution_count": 2,
      "outputs": [
        {
          "output_type": "stream",
          "name": "stdout",
          "text": [
            "{2, 3}\n"
          ]
        }
      ]
    },
    {
      "cell_type": "code",
      "source": [
        "#21  Write a code to create a dictionary with the keys \"name\", \"age\", and \"city\", and print it.\n",
        "d1={'name':'John','age':25,'city':'New York'}\n",
        "print(d1)"
      ],
      "metadata": {
        "id": "_11wPcf6Fbhz"
      },
      "execution_count": null,
      "outputs": []
    },
    {
      "cell_type": "code",
      "source": [
        "#22  Write a code to add a new key-value pair \"country\": \"USA\" to the dictionary {'name': 'John', 'age': 25}.\n",
        "d1={'name':'John','age':25}\n",
        "d1['country']='USA'\n",
        "print(d1)"
      ],
      "metadata": {
        "id": "PSZn3-8AFbu7"
      },
      "execution_count": null,
      "outputs": []
    },
    {
      "cell_type": "code",
      "source": [
        "#23  Write a code to access the value associated with the key \"name\" in the dictionary {'name': 'Alice', 'age': 30}\n",
        "d1={'name':'Alice','age':30}\n",
        "print(d1['name'])"
      ],
      "metadata": {
        "id": "TxNTqXWYFb9G"
      },
      "execution_count": null,
      "outputs": []
    },
    {
      "cell_type": "code",
      "source": [
        "#24 Write a code to remove the key \"age\" from the dictionary {'name': 'Bob', 'age': 22, 'city': 'New York'}\n",
        "d1={'name':'Bob','age':22,'city':'New York'}\n",
        "del d1['age']\n",
        "print(d1)"
      ],
      "metadata": {
        "id": "6i1XUTFrFcG1"
      },
      "execution_count": null,
      "outputs": []
    },
    {
      "cell_type": "code",
      "source": [
        "#25 Write a code to check if the key \"city\" exists in the dictionary {'name': 'Alice', 'city': 'Paris'}.\n",
        "d1={'name':'Alice','city':'Paris'}\n",
        "if 'city' in d1:\n",
        "  print(\"City exists\")"
      ],
      "metadata": {
        "id": "E8xo8_baFcQ_"
      },
      "execution_count": null,
      "outputs": []
    },
    {
      "cell_type": "code",
      "source": [
        "#26 Write a code to create a list, a tuple, and a dictionary, and print them all.\n",
        "l1=[1,2,3,4]\n",
        "t1=(1,2,3,4)\n",
        "d1={'name':'John','age':25}\n",
        "print(l1)\n",
        "print(t1)\n",
        "print(d1)"
      ],
      "metadata": {
        "id": "bprwj3eZFcoD"
      },
      "execution_count": null,
      "outputs": []
    },
    {
      "cell_type": "code",
      "source": [
        "#27 Write a code to create a list of 5 random numbers between 1 and 100, sort it in ascending order, and print the result.(replaced)\n",
        "import random\n",
        "L1=[]\n",
        "for i in range(5):\n",
        "  L1.append(random.randint(1,100))\n",
        "L1.sort()\n",
        "print(L1)"
      ],
      "metadata": {
        "colab": {
          "base_uri": "https://localhost:8080/"
        },
        "id": "SpWX42cxFcxF",
        "outputId": "799c21ef-f0e9-4ec0-be2f-2bded87b5f54"
      },
      "execution_count": 3,
      "outputs": [
        {
          "output_type": "stream",
          "name": "stdout",
          "text": [
            "[41, 55, 64, 74, 91]\n"
          ]
        }
      ]
    },
    {
      "cell_type": "code",
      "source": [
        "#28 Write a code to create a list with strings and print the element at the third index\n",
        "L1=['apple','banana','orange','kiwi','mango']\n",
        "print(L1[3])"
      ],
      "metadata": {
        "id": "gCccM5W8Fc8K"
      },
      "execution_count": null,
      "outputs": []
    },
    {
      "cell_type": "code",
      "source": [
        "#29 Write a code to combine two dictionaries into one and print the result.\n",
        "d1={'name':'John','age':25}\n",
        "d2={'city':'New York','country':'USA'}\n",
        "d1.update(d2)\n",
        "print(d1)"
      ],
      "metadata": {
        "colab": {
          "base_uri": "https://localhost:8080/"
        },
        "id": "cv29S_1FFdHg",
        "outputId": "34afca68-3374-4658-9b65-90195b27f5e6"
      },
      "execution_count": 4,
      "outputs": [
        {
          "output_type": "stream",
          "name": "stdout",
          "text": [
            "{'name': 'John', 'age': 25, 'city': 'New York', 'country': 'USA'}\n"
          ]
        }
      ]
    },
    {
      "cell_type": "code",
      "source": [
        "#30 Write a code to convert a list of strings into a set.\n",
        "l1=['a','b','c','d']\n",
        "l1=set(l1)\n",
        "print(l1)"
      ],
      "metadata": {
        "id": "W991yJX7FdTG"
      },
      "execution_count": null,
      "outputs": []
    }
  ]
}