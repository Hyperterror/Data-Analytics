{
  "nbformat": 4,
  "nbformat_minor": 0,
  "metadata": {
    "colab": {
      "provenance": [],
      "toc_visible": true
    },
    "kernelspec": {
      "name": "python3",
      "display_name": "Python 3"
    },
    "language_info": {
      "name": "python"
    }
  },
  "cells": [
    {
      "cell_type": "markdown",
      "source": [
        "# Python Basics"
      ],
      "metadata": {
        "id": "Kt4A4j3HbVum"
      }
    },
    {
      "cell_type": "markdown",
      "source": [
        "1. What is Python, and why is it popular ?\n",
        "   - Python is a high level interpreter versatile programming language.\n",
        "   - It is popular because it is easy to understand, consists of huge number of libraries , have large community.\n",
        "\n",
        "2. What is an interpreter in Python?\n",
        "  - An interpreter in Pythin is a program that reads and excutes the code line by line. Python code is interpreted at runtime.\n",
        "\n",
        "3. What are pre-defined keywords in Python ?\n",
        "  - Pre-defined keywords are special reserved words that have specific meaning and purposes within python. Examples: max,True,len,etc\n",
        "\n",
        "4. Can keywords be used as variable names ?\n",
        "  - No keywords cannot be used as variable names. They are reserved words with specific meaning in the python syntax. Using keyword as a variable name will result in syntaxerror.\n",
        "\n",
        "5. What is mutability in Python ?\n",
        " - Mutability in python means whether the object can be changed after it is created.\n",
        "\n",
        "6. Why are lists mutable, but tuples are immutable ?\n",
        " - Lists are mutable because they are designed to be dynamic collections where elements can be added, removed, or modified in place. This makes lists flexible for tasks that involve changing data.\n",
        " - Tuples are immutable because they are designed to be fixed, ordered sequences of elements. Once a tuple is created, its elements cannot be changed, added, or removed.\n",
        "\n",
        "\n",
        "7. What is the difference between “==” and “is” operators in Python ?\n",
        "  - The == operator checks for value equality. It evaluates whether the values of the objects on both sides of the operator are the same.\n",
        "  - The is operator checks for identity. It evaluates whether the objects on both sides of the operator are the exact same object in memory.\n",
        "\n",
        "8. What are logical operators in Python ?\n",
        "  - Logical operators in Python are used to combine conditional statements and evaluate boolean values (True or False). They are commonly used in if statements and loops to control the flow of a program.\n",
        "\n",
        "  There are three main logical operators in Python:\n",
        "\n",
        "  - and: Returns True if both operands are True. Otherwise, it returns False.\n",
        "  - or: Returns True if at least one of the operands is True. Otherwise, it returns False.\n",
        "  - not: Returns the opposite boolean value of the operand. If the operand is True, not returns False, and if the operand is False, not returns True.\n",
        "\n",
        "9.  What is type casting in Python ?\n",
        "  - Type casting in python is the process of converting a value of one data type to another.\n",
        "\n",
        "10. What is the difference between implicit and explicit type casting ?\n",
        "   - Implicit type casting is when Python automatically changes a data type for you, usually to make different types compatible in an operation.\n",
        "   - Explicit type casting is when one specifically tell Python to change a data type using functions like int(), float(), or str().\n",
        "\n",
        "11. What is the purpose of conditional statements in Python ?\n",
        "   - The purpose of conditional statements in Python is to allow your program to make decisions based on whether a certain condition is true or false. They enable you to execute different blocks of code depending on the state of your data or other factors.\n",
        "\n",
        "12. How does the elif statement work ?\n",
        "  - The elif statement in python stands for else if. When if condition is true and if code block is excuted elif and else code block is skipped but when if condition is false then it moves to check elif condition whether is it true or false. If true then elif code block is executed otherwise it moves to else condition.\n",
        "  - We can have multiple elif in our python code.\n",
        "\n",
        "13. What is the difference between for and while loops ?\n",
        "  - for loops are typically used when you know the number of times you want to loop or when you want to iterate over a sequence. They are designed for definite iteration.\n",
        "  - while loops are used when you want to loop as long as a certain condition is true. They are designed for indefinite iteration, where the number of times the loop will run is not known beforehand and depends on the condition being met.\n",
        "\n",
        "14.  Describe a scenario where a while loop is more suitable than a for loop.\n",
        "  - A while loop is more suitable than a for loop when the number of iterations is not known beforehand and depends on a condition that changes during the loop's execution."
      ],
      "metadata": {
        "id": "6Es2gaJmbhzk"
      }
    },
    {
      "cell_type": "code",
      "execution_count": null,
      "metadata": {
        "id": "daFXnHckbGLU"
      },
      "outputs": [],
      "source": [
        "#1 Write a Python program to print \"Hello, World!\n",
        "print(\"Hello, World!\")"
      ]
    },
    {
      "cell_type": "code",
      "source": [
        "#2. Write a Python program that displays your name and age\n",
        "name= input(\"Enter your name: \")\n",
        "age= int(input(\"Enter your age: \"))\n",
        "print(\"Name:\",name)\n",
        "print(\"Age:\",age)"
      ],
      "metadata": {
        "id": "zCpc-ykPdU3Q"
      },
      "execution_count": null,
      "outputs": []
    },
    {
      "cell_type": "code",
      "source": [
        "#3. Write code to print all the pre-defined keywords in Python using the keyword library\n",
        "import keyword\n",
        "print(keyword.kwlist)"
      ],
      "metadata": {
        "id": "_jpMgUo6djk8"
      },
      "execution_count": null,
      "outputs": []
    },
    {
      "cell_type": "code",
      "source": [
        "#4. Write a program that checks if a given word is a Python keyword\n",
        "import keyword\n",
        "word=input(\"Enter a word: \")\n",
        "if keyword.iskeyword(word):\n",
        "  print(word,\"is a keyword\")\n",
        "else:\n",
        "  print(word,\"is not a keyword\")\n",
        "\n"
      ],
      "metadata": {
        "id": "wOXubK1zdx7E"
      },
      "execution_count": null,
      "outputs": []
    },
    {
      "cell_type": "code",
      "source": [
        "#5. Create a list and tuple in Python, and demonstrate how attempting to change an element works differently for each.\n",
        "my_list = [1, 2, 3, 4, 5]\n",
        "my_tuple = (1, 2, 3, 4, 5)\n",
        "\n",
        "print(\"Original List:\", my_list)\n",
        "print(\"Original Tuple:\", my_tuple)\n",
        "my_list[0] = 10\n",
        "print(\"List after attempting to change element:\", my_list)\n",
        "#my_tuple[0] = 10 # Uncommenting this line will raise a TypeError"
      ],
      "metadata": {
        "colab": {
          "base_uri": "https://localhost:8080/"
        },
        "id": "roViJywFeHhf",
        "outputId": "8b352dd1-d721-4db7-e202-51d4b01fe89a"
      },
      "execution_count": null,
      "outputs": [
        {
          "output_type": "stream",
          "name": "stdout",
          "text": [
            "Original List: [1, 2, 3, 4, 5]\n",
            "Original Tuple: (1, 2, 3, 4, 5)\n",
            "List after attempting to change element: [10, 2, 3, 4, 5]\n"
          ]
        }
      ]
    },
    {
      "cell_type": "code",
      "source": [
        "#6. Write a function to demonstrate the behavior of mutable and immutable arguments..\n",
        "def modify_arguments(mutable_list, immutable_int):\n",
        "  print(\"\\nInside the function:\")\n",
        "  print(\"Before modification:\")\n",
        "  print(\"Mutable list:\", mutable_list)\n",
        "  print(\"Immutable integer:\", immutable_int)\n",
        "  mutable_list.append(6)\n",
        "  immutable_int += 1\n",
        "  print(\"After modification:\")\n",
        "  print(\"Mutable list:\", mutable_list)\n",
        "  print(\"Immutable integer:\", immutable_int)\n",
        "\n",
        "my_list = [1, 2, 3, 4, 5]\n",
        "my_int = 10\n",
        "\n",
        "print(\"Before function call:\")\n",
        "print(\"Mutable list:\", my_list)\n",
        "print(\"Immutable integer:\", my_int)\n",
        "\n",
        "modify_arguments(my_list, my_int)\n",
        "\n",
        "print(\"\\nAfter function call:\")\n",
        "print(\"Mutable list:\", my_list)\n",
        "print(\"Immutable integer:\", my_int)\n"
      ],
      "metadata": {
        "id": "hG7wKcMdeXOj"
      },
      "execution_count": null,
      "outputs": []
    },
    {
      "cell_type": "code",
      "source": [
        "#7. Write a program that performs basic arithmetic operations on two user-input numbers.\n",
        "num1 = float(input(\"Enter the first number: \"))\n",
        "num2 = float(input(\"Enter the second number: \"))\n",
        "\n",
        "sum_result = num1 + num2\n",
        "difference = num1 - num2\n",
        "product = num1 * num2\n",
        "if num2 != 0:\n",
        "  division_result = num1 / num2\n",
        "  print(f\"Sum: {sum_result}\")\n",
        "  print(f\"Difference: {difference}\")\n",
        "  print(f\"Product: {product}\")\n",
        "  print(f\"Division: {division_result}\")\n",
        "else:\n",
        "  print(\"Cannot perform division as the second number is zero.\")"
      ],
      "metadata": {
        "id": "G0SYvR8keeaL"
      },
      "execution_count": null,
      "outputs": []
    },
    {
      "cell_type": "code",
      "source": [
        "#8. Write a program to demonstrate the use of logical operators.\n",
        "x = True\n",
        "y = False\n",
        "\n",
        "print(f\"x is {x}\")\n",
        "print(f\"y is {y}\")\n",
        "print(\"\\nLogical AND:\")\n",
        "print(f\"x and y: {x and y}\")\n",
        "print(\"\\nLogical OR:\")\n",
        "print(f\"x or y: {x or y}\")\n",
        "print(\"\\nLogical NOT:\")\n",
        "print(f\"not x: {not x}\")\n",
        "print(f\"not y: {not y}\")\n",
        "\n",
        "a = 10\n",
        "b = 5\n",
        "c = 15\n",
        "\n",
        "print(\"\\nLogical operators with expressions:\")\n",
        "print(f\"(a > b) and (c > a): {(a > b) and (c > a)}\")\n",
        "print(f\"(a < b) or (c > a): {(a < b) or (c > a)}\")\n",
        "print(f\"not (a == b): {not (a == b)}\")"
      ],
      "metadata": {
        "id": "tZo3TXxPeji_"
      },
      "execution_count": null,
      "outputs": []
    },
    {
      "cell_type": "code",
      "source": [
        "#9. Write a Python program to convert user input from string to integer, float, and boolean types\n",
        "user_input_str = input(\"Enter a string: \")\n",
        "print(\"Input as string:\", user_input_str)\n",
        "user_input_int = int(user_input_str)\n",
        "print(\"Input as integer:\", user_input_int)\n",
        "user_input_float = float(user_input_str)\n",
        "print(\"Input as float:\", user_input_float)\n",
        "user_input_bool = bool(user_input_str)\n",
        "print(\"Input as boolean:\", user_input_bool)"
      ],
      "metadata": {
        "id": "Y2mkFJk6en7e"
      },
      "execution_count": null,
      "outputs": []
    },
    {
      "cell_type": "code",
      "source": [
        "#10. Write code to demonstrate type casting with list elements.\n",
        "\n",
        "my_list = [\"123\", 45.1, \"89\", \"100\"]\n",
        "\n",
        "print(\"Original list (strings):\", my_list)\n",
        "print(\"Type of elements:\", [type(item) for item in my_list])\n",
        "\n",
        "int_list = [int(item) for item in my_list]\n",
        "print(\"\\nList after casting to integer:\", int_list)\n",
        "print(\"Type of elements:\", [type(item) for item in int_list])\n",
        "\n",
        "float_list = [float(item) for item in my_list]\n",
        "print(\"\\nList after casting to float:\", float_list)\n",
        "print(\"Type of elements:\", [type(item) for item in float_list])\n",
        "\n",
        "\n",
        "str_list = [str(item) for item in my_list]\n",
        "print(\"\\nList after casting to string:\", str_list)\n",
        "print(\"Type of elements:\", [type(item) for item in str_list])\n"
      ],
      "metadata": {
        "colab": {
          "base_uri": "https://localhost:8080/"
        },
        "id": "5CBPxUpLeuij",
        "outputId": "9d501626-3920-4fc7-d0db-70d1c9859aaa"
      },
      "execution_count": null,
      "outputs": [
        {
          "output_type": "stream",
          "name": "stdout",
          "text": [
            "Original list (strings): ['123', 45.1, '89', '100']\n",
            "Type of elements: [<class 'str'>, <class 'float'>, <class 'str'>, <class 'str'>]\n",
            "\n",
            "List after casting to integer: [123, 45, 89, 100]\n",
            "Type of elements: [<class 'int'>, <class 'int'>, <class 'int'>, <class 'int'>]\n",
            "\n",
            "List after casting to float: [123.0, 45.1, 89.0, 100.0]\n",
            "Type of elements: [<class 'float'>, <class 'float'>, <class 'float'>, <class 'float'>]\n",
            "\n",
            "List after casting to string: ['123', '45.1', '89', '100']\n",
            "Type of elements: [<class 'str'>, <class 'str'>, <class 'str'>, <class 'str'>]\n"
          ]
        }
      ]
    },
    {
      "cell_type": "code",
      "source": [
        "#11. Write a program that checks if a number is positive, negative, or zero.\n",
        "num=int(input(\"Enter a number: \"))\n",
        "if num>0:\n",
        "  print(num,\"is positive\")\n",
        "elif num<0:\n",
        "  print(num,\"is negative\")\n",
        "else:\n",
        "  print(num,\"is zero\")"
      ],
      "metadata": {
        "id": "3YOopRNGey9L"
      },
      "execution_count": null,
      "outputs": []
    },
    {
      "cell_type": "code",
      "source": [
        "#12. Write a for loop to print numbers from 1 to 10.\n",
        "for x in range(1,11):\n",
        "  print(x)"
      ],
      "metadata": {
        "colab": {
          "base_uri": "https://localhost:8080/"
        },
        "id": "VsgrUS6Qe7Qo",
        "outputId": "d2a3f6dd-ba50-4c23-9a7d-c19ea2cf860a"
      },
      "execution_count": null,
      "outputs": [
        {
          "output_type": "stream",
          "name": "stdout",
          "text": [
            "1\n",
            "2\n",
            "3\n",
            "4\n",
            "5\n",
            "6\n",
            "7\n",
            "8\n",
            "9\n",
            "10\n"
          ]
        }
      ]
    },
    {
      "cell_type": "code",
      "source": [
        "#13. Write a Python program to find the sum of all even numbers between 1 and 50\n",
        "sum1=0\n",
        "for x in range(1,51):\n",
        "  if x%2==0:\n",
        "    sum1+=x\n",
        "print(\"Sum of all even numbers between 1 to 50 is\", sum1)\n"
      ],
      "metadata": {
        "colab": {
          "base_uri": "https://localhost:8080/"
        },
        "id": "_5ColJKKfFil",
        "outputId": "854f61dd-11ea-4af6-c755-18d43cc777bb"
      },
      "execution_count": null,
      "outputs": [
        {
          "output_type": "stream",
          "name": "stdout",
          "text": [
            "Sum of all even numbers between 1 to 50 is 650\n"
          ]
        }
      ]
    },
    {
      "cell_type": "code",
      "source": [
        "#14. Write a program to reverse a string using a while loop.\n",
        "string=input(\"Enter a String: \")\n",
        "length=len(string)\n",
        "while(length>=1):\n",
        "  print(string[length-1],end=\"\")\n",
        "  length-=1"
      ],
      "metadata": {
        "colab": {
          "base_uri": "https://localhost:8080/"
        },
        "id": "OOebgxhJfm3h",
        "outputId": "2fb90287-9890-4771-b040-f4a1d9a6dd4b"
      },
      "execution_count": null,
      "outputs": [
        {
          "output_type": "stream",
          "name": "stdout",
          "text": [
            "Enter a String: Hello\n",
            "olleH"
          ]
        }
      ]
    },
    {
      "cell_type": "code",
      "source": [
        "#15. Write a Python program to calculate the factorial of a number provided by the user using a while loop.\n",
        "num=int(input(\"Enter a number: \"))\n",
        "fact=1\n",
        "while(num>=2):\n",
        "  fact*=num\n",
        "  num-=1"
      ],
      "metadata": {
        "id": "N8INYko_gUdO"
      },
      "execution_count": null,
      "outputs": []
    }
  ]
}